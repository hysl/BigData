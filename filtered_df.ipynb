{
 "cells": [
  {
   "cell_type": "code",
   "execution_count": 2,
   "metadata": {
    "collapsed": true
   },
   "outputs": [],
   "source": [
    "from pyspark.sql import SQLContext\n",
    "\n",
    "sqlContext = SQLContext(sc)\n",
    "\n",
    "df = sqlContext.read.load('file:///home/cloudera/Downloads/big-data/minute_weather.csv', \n",
    "                          format='com.databricks.spark.csv', \n",
    "                          header='true',inferSchema='true')"
   ]
  },
  {
   "cell_type": "code",
   "execution_count": 3,
   "metadata": {
    "collapsed": false
   },
   "outputs": [
    {
     "data": {
      "text/html": [
       "<div>\n",
       "<table border=\"1\" class=\"dataframe\">\n",
       "  <thead>\n",
       "    <tr style=\"text-align: right;\">\n",
       "      <th></th>\n",
       "      <th>0</th>\n",
       "      <th>1</th>\n",
       "      <th>2</th>\n",
       "      <th>3</th>\n",
       "      <th>4</th>\n",
       "    </tr>\n",
       "  </thead>\n",
       "  <tbody>\n",
       "    <tr>\n",
       "      <th>summary</th>\n",
       "      <td>count</td>\n",
       "      <td>mean</td>\n",
       "      <td>stddev</td>\n",
       "      <td>min</td>\n",
       "      <td>max</td>\n",
       "    </tr>\n",
       "    <tr>\n",
       "      <th>rowID</th>\n",
       "      <td>1587257</td>\n",
       "      <td>793628.0</td>\n",
       "      <td>458201.7724491035</td>\n",
       "      <td>0</td>\n",
       "      <td>1587256</td>\n",
       "    </tr>\n",
       "    <tr>\n",
       "      <th>air_pressure</th>\n",
       "      <td>1587257</td>\n",
       "      <td>916.8301266904981</td>\n",
       "      <td>3.0515931266814733</td>\n",
       "      <td>905.0</td>\n",
       "      <td>929.5</td>\n",
       "    </tr>\n",
       "    <tr>\n",
       "      <th>air_temp</th>\n",
       "      <td>1587257</td>\n",
       "      <td>61.85144042835004</td>\n",
       "      <td>11.833623786835787</td>\n",
       "      <td>31.64</td>\n",
       "      <td>99.5</td>\n",
       "    </tr>\n",
       "    <tr>\n",
       "      <th>avg_wind_direction</th>\n",
       "      <td>1586824</td>\n",
       "      <td>161.96537927331576</td>\n",
       "      <td>95.20811970204107</td>\n",
       "      <td>0.0</td>\n",
       "      <td>359.0</td>\n",
       "    </tr>\n",
       "    <tr>\n",
       "      <th>avg_wind_speed</th>\n",
       "      <td>1586824</td>\n",
       "      <td>2.7742720679798536</td>\n",
       "      <td>2.0607577935630346</td>\n",
       "      <td>0.0</td>\n",
       "      <td>32.3</td>\n",
       "    </tr>\n",
       "    <tr>\n",
       "      <th>max_wind_direction</th>\n",
       "      <td>1586824</td>\n",
       "      <td>163.40304784903682</td>\n",
       "      <td>92.36723428064296</td>\n",
       "      <td>0.0</td>\n",
       "      <td>359.0</td>\n",
       "    </tr>\n",
       "    <tr>\n",
       "      <th>max_wind_speed</th>\n",
       "      <td>1586824</td>\n",
       "      <td>3.399813400856993</td>\n",
       "      <td>2.423167433617141</td>\n",
       "      <td>0.1</td>\n",
       "      <td>36.0</td>\n",
       "    </tr>\n",
       "    <tr>\n",
       "      <th>min_wind_direction</th>\n",
       "      <td>1586824</td>\n",
       "      <td>166.82637078844283</td>\n",
       "      <td>97.46274620077628</td>\n",
       "      <td>0.0</td>\n",
       "      <td>359.0</td>\n",
       "    </tr>\n",
       "    <tr>\n",
       "      <th>min_wind_speed</th>\n",
       "      <td>1586824</td>\n",
       "      <td>2.1331304542918517</td>\n",
       "      <td>1.7453450849326675</td>\n",
       "      <td>0.0</td>\n",
       "      <td>32.0</td>\n",
       "    </tr>\n",
       "    <tr>\n",
       "      <th>rain_accumulation</th>\n",
       "      <td>1587256</td>\n",
       "      <td>0.001854836270897765</td>\n",
       "      <td>0.9609715682156083</td>\n",
       "      <td>0.0</td>\n",
       "      <td>655.01</td>\n",
       "    </tr>\n",
       "    <tr>\n",
       "      <th>rain_duration</th>\n",
       "      <td>1587256</td>\n",
       "      <td>0.5361460281139274</td>\n",
       "      <td>81.14765645053556</td>\n",
       "      <td>0.0</td>\n",
       "      <td>63305.0</td>\n",
       "    </tr>\n",
       "    <tr>\n",
       "      <th>relative_humidity</th>\n",
       "      <td>1587257</td>\n",
       "      <td>47.608368777078816</td>\n",
       "      <td>26.214543906498537</td>\n",
       "      <td>0.7</td>\n",
       "      <td>93.0</td>\n",
       "    </tr>\n",
       "  </tbody>\n",
       "</table>\n",
       "</div>"
      ],
      "text/plain": [
       "                          0                     1                   2      3  \\\n",
       "summary               count                  mean              stddev    min   \n",
       "rowID               1587257              793628.0   458201.7724491035      0   \n",
       "air_pressure        1587257     916.8301266904981  3.0515931266814733  905.0   \n",
       "air_temp            1587257     61.85144042835004  11.833623786835787  31.64   \n",
       "avg_wind_direction  1586824    161.96537927331576   95.20811970204107    0.0   \n",
       "avg_wind_speed      1586824    2.7742720679798536  2.0607577935630346    0.0   \n",
       "max_wind_direction  1586824    163.40304784903682   92.36723428064296    0.0   \n",
       "max_wind_speed      1586824     3.399813400856993   2.423167433617141    0.1   \n",
       "min_wind_direction  1586824    166.82637078844283   97.46274620077628    0.0   \n",
       "min_wind_speed      1586824    2.1331304542918517  1.7453450849326675    0.0   \n",
       "rain_accumulation   1587256  0.001854836270897765  0.9609715682156083    0.0   \n",
       "rain_duration       1587256    0.5361460281139274   81.14765645053556    0.0   \n",
       "relative_humidity   1587257    47.608368777078816  26.214543906498537    0.7   \n",
       "\n",
       "                          4  \n",
       "summary                 max  \n",
       "rowID               1587256  \n",
       "air_pressure          929.5  \n",
       "air_temp               99.5  \n",
       "avg_wind_direction    359.0  \n",
       "avg_wind_speed         32.3  \n",
       "max_wind_direction    359.0  \n",
       "max_wind_speed         36.0  \n",
       "min_wind_direction    359.0  \n",
       "min_wind_speed         32.0  \n",
       "rain_accumulation    655.01  \n",
       "rain_duration       63305.0  \n",
       "relative_humidity      93.0  "
      ]
     },
     "execution_count": 3,
     "metadata": {},
     "output_type": "execute_result"
    }
   ],
   "source": [
    "df.describe().toPandas().transpose()"
   ]
  },
  {
   "cell_type": "code",
   "execution_count": 4,
   "metadata": {
    "collapsed": false
   },
   "outputs": [
    {
     "name": "stdout",
     "output_type": "stream",
     "text": [
      "+-------+------------------+\n",
      "|summary|      air_pressure|\n",
      "+-------+------------------+\n",
      "|  count|           1587257|\n",
      "|   mean| 916.8301266904981|\n",
      "| stddev|3.0515931266814733|\n",
      "|    min|             905.0|\n",
      "|    max|             929.5|\n",
      "+-------+------------------+\n",
      "\n"
     ]
    }
   ],
   "source": [
    "df.describe(['air_pressure']).show()"
   ]
  },
  {
   "cell_type": "code",
   "execution_count": 5,
   "metadata": {
    "collapsed": true
   },
   "outputs": [],
   "source": [
    "filteredDF = df.filter((df.rowID % 22) == 0)"
   ]
  },
  {
   "cell_type": "code",
   "execution_count": 6,
   "metadata": {
    "collapsed": false
   },
   "outputs": [
    {
     "data": {
      "text/plain": [
       "72149"
      ]
     },
     "execution_count": 6,
     "metadata": {},
     "output_type": "execute_result"
    }
   ],
   "source": [
    "filteredDF.count()"
   ]
  },
  {
   "cell_type": "code",
   "execution_count": 7,
   "metadata": {
    "collapsed": false
   },
   "outputs": [
    {
     "name": "stdout",
     "output_type": "stream",
     "text": [
      "+-------+------------------+\n",
      "|summary|      air_pressure|\n",
      "+-------+------------------+\n",
      "|  count|             72149|\n",
      "|   mean|  916.830209704934|\n",
      "| stddev|3.0517146739454795|\n",
      "|    min|             905.1|\n",
      "|    max|             929.5|\n",
      "+-------+------------------+\n",
      "\n"
     ]
    }
   ],
   "source": [
    "filteredDF.describe(['air_pressure']).show()"
   ]
  },
  {
   "cell_type": "code",
   "execution_count": 8,
   "metadata": {
    "collapsed": true
   },
   "outputs": [],
   "source": [
    "from pyspark.sql.functions import avg"
   ]
  },
  {
   "cell_type": "code",
   "execution_count": 9,
   "metadata": {
    "collapsed": true
   },
   "outputs": [],
   "source": [
    "imputeDF = filteredDF"
   ]
  },
  {
   "cell_type": "code",
   "execution_count": 10,
   "metadata": {
    "collapsed": false
   },
   "outputs": [
    {
     "name": "stdout",
     "output_type": "stream",
     "text": [
      "rowID 793628.0\n",
      "hpwren_timestamp 1362125288.5993984\n",
      "air_pressure 916.830209704934\n",
      "air_temp 61.851424136162734\n",
      "avg_wind_direction 161.91263414769418\n",
      "avg_wind_speed 2.772582568425723\n",
      "max_wind_direction 163.34542857935165\n",
      "max_wind_speed 3.398079642827498\n",
      "min_wind_direction 166.44175147666454\n",
      "min_wind_speed 2.1316852000776767\n",
      "rain_accumulation 0.00027388146587575883\n",
      "rain_duration 0.38459832566391305\n",
      "relative_humidity 47.60542211257255\n"
     ]
    }
   ],
   "source": [
    "for x in imputeDF.columns:\n",
    "    meanValue = filteredDF.agg(avg(x)).first()[0]\n",
    "    print(x, meanValue)\n",
    "    imputeDF = imputeDF.na.fill(meanValue, [x])"
   ]
  },
  {
   "cell_type": "code",
   "execution_count": 11,
   "metadata": {
    "collapsed": false
   },
   "outputs": [
    {
     "name": "stdout",
     "output_type": "stream",
     "text": [
      "+-------+------------------+\n",
      "|summary|      air_pressure|\n",
      "+-------+------------------+\n",
      "|  count|             72149|\n",
      "|   mean|  916.830209704934|\n",
      "| stddev|3.0517146739454795|\n",
      "|    min|             905.1|\n",
      "|    max|             929.5|\n",
      "+-------+------------------+\n",
      "\n"
     ]
    }
   ],
   "source": [
    "filteredDF.describe(['air_pressure']).show()"
   ]
  },
  {
   "cell_type": "code",
   "execution_count": 12,
   "metadata": {
    "collapsed": false
   },
   "outputs": [
    {
     "name": "stdout",
     "output_type": "stream",
     "text": [
      "+-------+------------------+\n",
      "|summary|      air_pressure|\n",
      "+-------+------------------+\n",
      "|  count|             72149|\n",
      "|   mean|  916.830209704934|\n",
      "| stddev|3.0517146739454795|\n",
      "|    min|             905.1|\n",
      "|    max|             929.5|\n",
      "+-------+------------------+\n",
      "\n"
     ]
    }
   ],
   "source": [
    "imputeDF.describe(['air_pressure']).show()"
   ]
  },
  {
   "cell_type": "code",
   "execution_count": 13,
   "metadata": {
    "collapsed": false
   },
   "outputs": [
    {
     "data": {
      "text/plain": [
       "52257"
      ]
     },
     "execution_count": 13,
     "metadata": {},
     "output_type": "execute_result"
    }
   ],
   "source": [
    "imputeDF.filter((imputeDF['air_pressure'] > 915) & (imputeDF['air_pressure'] < 928)).count()"
   ]
  },
  {
   "cell_type": "code",
   "execution_count": null,
   "metadata": {
    "collapsed": true
   },
   "outputs": [],
   "source": []
  }
 ],
 "metadata": {
  "kernelspec": {
   "display_name": "Python 3",
   "language": "python",
   "name": "python3"
  },
  "language_info": {
   "codemirror_mode": {
    "name": "ipython",
    "version": 3
   },
   "file_extension": ".py",
   "mimetype": "text/x-python",
   "name": "python",
   "nbconvert_exporter": "python",
   "pygments_lexer": "ipython3",
   "version": "3.5.1"
  }
 },
 "nbformat": 4,
 "nbformat_minor": 1
}
