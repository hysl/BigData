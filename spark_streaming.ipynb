{
 "cells": [
  {
   "cell_type": "code",
   "execution_count": 1,
   "metadata": {
    "collapsed": true
   },
   "outputs": [],
   "source": [
    "# Example weather station data\n",
    "#\n",
    "# 1419408015\t0R1,Dn=059D,Dm=066D,Dx=080D,Sn=8.5M,Sm=9.5M,Sx=10.3M\n",
    "# 1419408016\t0R1,Dn=059D,Dm=065D,Dx=078D,Sn=8.5M,Sm=9.5M,Sx=10.3M\n",
    "# 1419408016\t0R2,Ta=13.9C,Ua=28.5P,Pa=889.9H\n",
    "# 1419408017\t0R1,Dn=059D,Dm=064D,Dx=075D,Sn=8.7M,Sm=9.6M,Sx=10.3M\n",
    "# 1419408018\t0R1,Dn=059D,Dm=064D,Dx=075D,Sn=8.9M,Sm=9.6M,Sx=10.3M\n",
    "# 1419408019\t0R1,Dn=059D,Dm=065D,Dx=075D,Sn=8.8M,Sm=9.5M,Sx=10.3M"
   ]
  },
  {
   "cell_type": "code",
   "execution_count": 2,
   "metadata": {
    "collapsed": true
   },
   "outputs": [],
   "source": [
    "# Key for measurements:\n",
    "#\n",
    "# Sn      Wind speed minimum m/s, km/h, mph, knots #,M, K, S, N\n",
    "# Sm      Wind speed average m/s, km/h, mph, knots #,M, K, S, N\n",
    "# Sx      Wind speed maximum m/s, km/h, mph, knots #,M, K, S, N\n",
    "# Dn      Wind direction minimum deg #, D\n",
    "# Dm      Wind direction average deg #, D\n",
    "# Dx      Wind direction maximum deg #, D\n",
    "# Pa      Air pressure hPa, Pa, bar, mmHg, inHg #, H, P, B, M, I\n",
    "# Ta      Air temperature °C, °F #, C, F\n",
    "# Tp      Internal temperature °C, °F #, C, F\n",
    "# Ua      Relative humidity %RH #, P\n",
    "# Rc      Rain accumulation mm, in #, M, I\n",
    "# Rd      Rain duration s #, S\n",
    "# Ri      Rain intensity mm/h, in/h #, M, I\n",
    "# Rp      Rain peak intensity mm/h, in/h #, M, I\n",
    "# Hc      Hail accumulation hits/cm2, hits/in2, hits #, M, I, H\n",
    "# Hd      Hail duration s #, S\n",
    "# Hi      Hail intensity hits/cm2h, hits/in2h, hits/ h #, M, I, H\n",
    "# Hp      Hail peak intensity hits/cm2h, hits/in2h, hits/ h #, M, I, H\n",
    "# Th      Heating temperature °C, °F #, C, F\n",
    "# Vh      Heating voltage V #, N, V, W, F2\n",
    "# Vs      Supply voltage V V\n",
    "# Vr      3.5 V ref. voltage V V"
   ]
  },
  {
   "cell_type": "code",
   "execution_count": 3,
   "metadata": {
    "collapsed": true
   },
   "outputs": [],
   "source": [
    "# Parse a line of weather station data, returning the average wind direction measurement \n",
    "#\n",
    "import re\n",
    "def parse(line):\n",
    "    match = re.search(\"Dm=(\\d+)\", line)  #A regular expression is commonly used to search for a pattern in a text.\n",
    "    #( start a capture group\n",
    "    #\\d a shorthand character class, which matches all numbers; it is the same as [0-9]\n",
    "    #+ one or more of the expression\n",
    "    #) end a capture group\n",
    "    if match:\n",
    "        val = match.group(1) # return the number\n",
    "        return [int(val)]\n",
    "    return []"
   ]
  },
  {
   "cell_type": "code",
   "execution_count": 4,
   "metadata": {
    "collapsed": true
   },
   "outputs": [],
   "source": [
    "from pyspark.streaming import StreamingContext"
   ]
  },
  {
   "cell_type": "code",
   "execution_count": 5,
   "metadata": {
    "collapsed": true
   },
   "outputs": [],
   "source": [
    "ssc = StreamingContext(sc,1)"
   ]
  },
  {
   "cell_type": "code",
   "execution_count": 6,
   "metadata": {
    "collapsed": true
   },
   "outputs": [],
   "source": [
    "lines = ssc.socketTextStream(\"rtd.hpwren.ucsd.edu\", 12028)"
   ]
  },
  {
   "cell_type": "code",
   "execution_count": 7,
   "metadata": {
    "collapsed": true
   },
   "outputs": [],
   "source": [
    "vals = lines.flatMap(parse)"
   ]
  },
  {
   "cell_type": "code",
   "execution_count": 8,
   "metadata": {
    "collapsed": true
   },
   "outputs": [],
   "source": [
    "window = vals.window(10, 5)"
   ]
  },
  {
   "cell_type": "code",
   "execution_count": 9,
   "metadata": {
    "collapsed": true
   },
   "outputs": [],
   "source": [
    "def stats(rdd):\n",
    "    print(rdd.collect())\n",
    "    if rdd.count() > 0:\n",
    "        print(\"max = {}, min = {}\".format(rdd.max(), rdd.min()))"
   ]
  },
  {
   "cell_type": "code",
   "execution_count": 10,
   "metadata": {
    "collapsed": true
   },
   "outputs": [],
   "source": [
    "window.foreachRDD(lambda rdd: stats(rdd))"
   ]
  },
  {
   "cell_type": "code",
   "execution_count": 11,
   "metadata": {
    "collapsed": false
   },
   "outputs": [
    {
     "name": "stdout",
     "output_type": "stream",
     "text": [
      "[]\n",
      "[106, 106, 108, 108]\n",
      "max = 108, min = 106\n",
      "[106, 106, 108, 108, 110, 110, 112, 113, 115]\n",
      "max = 115, min = 106\n",
      "[110, 110, 112, 113, 115, 116, 116, 115, 113, 111]\n",
      "max = 116, min = 110\n",
      "[116, 116, 115, 113, 111, 110, 108, 107, 105, 103]\n",
      "max = 116, min = 103\n",
      "[110, 108, 107, 105, 103, 104, 106, 108, 107, 112]\n",
      "max = 112, min = 103\n",
      "[104, 106, 108, 107, 112, 112, 115, 116, 117, 118]\n",
      "max = 118, min = 104\n",
      "[112, 115, 116, 117, 118, 115, 113, 114, 115, 110]\n",
      "max = 118, min = 110\n",
      "[115, 113, 114, 115, 110, 111, 110, 109, 112, 114]\n",
      "max = 115, min = 109\n",
      "[111, 110, 109, 112, 114, 116, 118, 119, 121, 123]\n",
      "max = 123, min = 109\n",
      "[116, 118, 119, 121, 123, 123, 123, 122, 118, 114]\n",
      "max = 123, min = 114\n",
      "[123, 123, 122, 118, 114, 113, 113, 111, 111, 111]\n",
      "max = 123, min = 111\n",
      "[113, 113, 111, 111, 111, 112, 114, 117, 120, 120, 123]\n",
      "max = 123, min = 111\n",
      "[112, 114, 117, 120, 120, 123, 124, 126, 128, 127, 126]\n",
      "max = 128, min = 112\n",
      "[124, 126, 128, 127, 126, 126, 126, 122, 119, 116]\n",
      "max = 128, min = 116\n",
      "[126, 126, 122, 119, 116, 113, 114, 113, 116, 119]\n",
      "max = 126, min = 113\n",
      "[113, 114, 113, 116, 119, 117, 115, 114, 120, 125]\n",
      "max = 125, min = 113\n",
      "[117, 115, 114, 120, 125, 118, 111, 109, 106, 101]\n",
      "max = 125, min = 101\n",
      "[118, 111, 109, 106, 101, 98, 99, 102, 100, 97]\n",
      "max = 118, min = 97\n",
      "[98, 99, 102, 100, 97, 106, 109, 108, 108, 110]\n",
      "max = 110, min = 97\n",
      "[106, 109, 108, 108, 110, 112, 112, 112, 114, 115]\n",
      "max = 115, min = 106\n"
     ]
    }
   ],
   "source": [
    "ssc.start()"
   ]
  },
  {
   "cell_type": "code",
   "execution_count": 12,
   "metadata": {
    "collapsed": false
   },
   "outputs": [
    {
     "name": "stdout",
     "output_type": "stream",
     "text": [
      "[112, 112, 112, 114, 115, 116, 118, 120, 123, 125]\n",
      "max = 125, min = 112\n"
     ]
    }
   ],
   "source": [
    "ssc.stop()"
   ]
  },
  {
   "cell_type": "code",
   "execution_count": null,
   "metadata": {
    "collapsed": true
   },
   "outputs": [],
   "source": []
  }
 ],
 "metadata": {
  "kernelspec": {
   "display_name": "Python 3",
   "language": "python",
   "name": "python3"
  },
  "language_info": {
   "codemirror_mode": {
    "name": "ipython",
    "version": 3
   },
   "file_extension": ".py",
   "mimetype": "text/x-python",
   "name": "python",
   "nbconvert_exporter": "python",
   "pygments_lexer": "ipython3",
   "version": "3.5.1"
  }
 },
 "nbformat": 4,
 "nbformat_minor": 1
}
