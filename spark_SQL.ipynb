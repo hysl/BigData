{
 "cells": [
  {
   "cell_type": "code",
   "execution_count": 1,
   "metadata": {
    "collapsed": true
   },
   "outputs": [],
   "source": [
    "from pyspark.sql import SQLContext"
   ]
  },
  {
   "cell_type": "code",
   "execution_count": 2,
   "metadata": {
    "collapsed": true
   },
   "outputs": [],
   "source": [
    "sqlsc = SQLContext(sc)"
   ]
  },
  {
   "cell_type": "code",
   "execution_count": 4,
   "metadata": {
    "collapsed": false
   },
   "outputs": [],
   "source": [
    "df = sqlsc.read.load('file:///home/cloudera/Downloads/big-data/game-clicks.csv',\n",
    "                          format='com.databricks.spark.csv',\n",
    "                          header='true',\n",
    "                          inferSchema='true')"
   ]
  },
  {
   "cell_type": "code",
   "execution_count": 5,
   "metadata": {
    "collapsed": false
   },
   "outputs": [
    {
     "name": "stdout",
     "output_type": "stream",
     "text": [
      "root\n",
      " |-- timestamp: timestamp (nullable = true)\n",
      " |-- clickId: integer (nullable = true)\n",
      " |-- userId: integer (nullable = true)\n",
      " |-- userSessionId: integer (nullable = true)\n",
      " |-- isHit: integer (nullable = true)\n",
      " |-- teamId: integer (nullable = true)\n",
      " |-- teamLevel: integer (nullable = true)\n",
      "\n"
     ]
    }
   ],
   "source": [
    "df.printSchema()"
   ]
  },
  {
   "cell_type": "code",
   "execution_count": 6,
   "metadata": {
    "collapsed": false
   },
   "outputs": [
    {
     "data": {
      "text/plain": [
       "755806"
      ]
     },
     "execution_count": 6,
     "metadata": {},
     "output_type": "execute_result"
    }
   ],
   "source": [
    "df.count()"
   ]
  },
  {
   "cell_type": "code",
   "execution_count": 7,
   "metadata": {
    "collapsed": false
   },
   "outputs": [
    {
     "name": "stdout",
     "output_type": "stream",
     "text": [
      "+--------------------+-------+------+-------------+-----+------+---------+\n",
      "|           timestamp|clickId|userId|userSessionId|isHit|teamId|teamLevel|\n",
      "+--------------------+-------+------+-------------+-----+------+---------+\n",
      "|2016-05-26 15:06:...|    105|  1038|         5916|    0|    25|        1|\n",
      "|2016-05-26 15:07:...|    154|  1099|         5898|    0|    44|        1|\n",
      "|2016-05-26 15:07:...|    229|   899|         5757|    0|    71|        1|\n",
      "|2016-05-26 15:07:...|    322|  2197|         5854|    0|    99|        1|\n",
      "|2016-05-26 15:07:...|     22|  1362|         5739|    0|    13|        1|\n",
      "+--------------------+-------+------+-------------+-----+------+---------+\n",
      "only showing top 5 rows\n",
      "\n"
     ]
    }
   ],
   "source": [
    "df.show(5)"
   ]
  },
  {
   "cell_type": "code",
   "execution_count": 9,
   "metadata": {
    "collapsed": false
   },
   "outputs": [
    {
     "name": "stdout",
     "output_type": "stream",
     "text": [
      "+------+---------+\n",
      "|userId|teamLevel|\n",
      "+------+---------+\n",
      "|  1038|        1|\n",
      "|  1099|        1|\n",
      "|   899|        1|\n",
      "|  2197|        1|\n",
      "|  1362|        1|\n",
      "+------+---------+\n",
      "only showing top 5 rows\n",
      "\n"
     ]
    }
   ],
   "source": [
    "df.select(\"userId\", \"teamLevel\").show(5)"
   ]
  },
  {
   "cell_type": "code",
   "execution_count": 10,
   "metadata": {
    "collapsed": false
   },
   "outputs": [
    {
     "name": "stdout",
     "output_type": "stream",
     "text": [
      "+------+---------+\n",
      "|userId|teamLevel|\n",
      "+------+---------+\n",
      "|  1513|        2|\n",
      "|   868|        2|\n",
      "|  1453|        2|\n",
      "|  1282|        2|\n",
      "|  1473|        2|\n",
      "+------+---------+\n",
      "only showing top 5 rows\n",
      "\n"
     ]
    }
   ],
   "source": [
    "df.filter(df[\"teamLevel\"] > 1).select(\"userId\", \"teamLevel\").show(5)"
   ]
  },
  {
   "cell_type": "code",
   "execution_count": 11,
   "metadata": {
    "collapsed": false
   },
   "outputs": [
    {
     "name": "stdout",
     "output_type": "stream",
     "text": [
      "+-----+------+\n",
      "|isHit| count|\n",
      "+-----+------+\n",
      "|    0|672423|\n",
      "|    1| 83383|\n",
      "+-----+------+\n",
      "\n"
     ]
    }
   ],
   "source": [
    "df.groupBy(\"isHit\").count().show()"
   ]
  },
  {
   "cell_type": "code",
   "execution_count": 12,
   "metadata": {
    "collapsed": true
   },
   "outputs": [],
   "source": [
    "from pyspark.sql.functions import *"
   ]
  },
  {
   "cell_type": "code",
   "execution_count": 13,
   "metadata": {
    "collapsed": false
   },
   "outputs": [
    {
     "name": "stdout",
     "output_type": "stream",
     "text": [
      "+------------------+----------+\n",
      "|        avg(isHit)|sum(isHit)|\n",
      "+------------------+----------+\n",
      "|0.1103232840173272|     83383|\n",
      "+------------------+----------+\n",
      "\n"
     ]
    }
   ],
   "source": [
    "df.select(mean('isHit'), sum('isHit')).show()"
   ]
  },
  {
   "cell_type": "code",
   "execution_count": 19,
   "metadata": {
    "collapsed": true
   },
   "outputs": [],
   "source": [
    "df2 = sqlsc.read.load('file:///home/cloudera/Downloads/big-data/ad-clicks.csv',\n",
    "                          format='com.databricks.spark.csv',\n",
    "                          header='true',\n",
    "                          inferSchema='true')"
   ]
  },
  {
   "cell_type": "code",
   "execution_count": 20,
   "metadata": {
    "collapsed": false
   },
   "outputs": [
    {
     "name": "stdout",
     "output_type": "stream",
     "text": [
      "root\n",
      " |-- timestamp: timestamp (nullable = true)\n",
      " |-- txId: integer (nullable = true)\n",
      " |-- userSessionId: integer (nullable = true)\n",
      " |-- teamId: integer (nullable = true)\n",
      " |-- userId: integer (nullable = true)\n",
      " |-- adId: integer (nullable = true)\n",
      " |-- adCategory: string (nullable = true)\n",
      "\n"
     ]
    }
   ],
   "source": [
    "df2.printSchema()"
   ]
  },
  {
   "cell_type": "code",
   "execution_count": 21,
   "metadata": {
    "collapsed": true
   },
   "outputs": [],
   "source": [
    "merge = df.join(df2, 'userId')"
   ]
  },
  {
   "cell_type": "code",
   "execution_count": 22,
   "metadata": {
    "collapsed": false
   },
   "outputs": [
    {
     "name": "stdout",
     "output_type": "stream",
     "text": [
      "root\n",
      " |-- userId: integer (nullable = true)\n",
      " |-- timestamp: timestamp (nullable = true)\n",
      " |-- clickId: integer (nullable = true)\n",
      " |-- userSessionId: integer (nullable = true)\n",
      " |-- isHit: integer (nullable = true)\n",
      " |-- teamId: integer (nullable = true)\n",
      " |-- teamLevel: integer (nullable = true)\n",
      " |-- timestamp: timestamp (nullable = true)\n",
      " |-- txId: integer (nullable = true)\n",
      " |-- userSessionId: integer (nullable = true)\n",
      " |-- teamId: integer (nullable = true)\n",
      " |-- adId: integer (nullable = true)\n",
      " |-- adCategory: string (nullable = true)\n",
      "\n"
     ]
    }
   ],
   "source": [
    "merge.printSchema()"
   ]
  },
  {
   "cell_type": "code",
   "execution_count": 23,
   "metadata": {
    "collapsed": false
   },
   "outputs": [
    {
     "name": "stdout",
     "output_type": "stream",
     "text": [
      "+------+--------------------+-------+-------------+-----+------+---------+--------------------+-----+-------------+------+----+----------+\n",
      "|userId|           timestamp|clickId|userSessionId|isHit|teamId|teamLevel|           timestamp| txId|userSessionId|teamId|adId|adCategory|\n",
      "+------+--------------------+-------+-------------+-----+------+---------+--------------------+-----+-------------+------+----+----------+\n",
      "|   231|2016-06-08 00:45:...| 376796|        23626|    0|   142|        4|2016-06-08 01:40:...|23669|        23626|   142|  27|     games|\n",
      "|   231|2016-06-08 00:45:...| 376796|        23626|    0|   142|        4|2016-06-08 09:24:...|24122|        23626|   142|   4|     games|\n",
      "|   231|2016-06-08 00:45:...| 376796|        23626|    0|   142|        4|2016-06-08 17:21:...|24659|        23626|   142|  22| computers|\n",
      "|   231|2016-06-08 00:45:...| 376796|        23626|    0|   142|        4|2016-06-08 23:34:...|25076|        23626|   142|  21|    movies|\n",
      "|   231|2016-06-08 00:45:...| 376796|        23626|    0|   142|        4|2016-06-09 16:32:...|26220|        23626|   142|  16|  clothing|\n",
      "+------+--------------------+-------+-------------+-----+------+---------+--------------------+-----+-------------+------+----+----------+\n",
      "only showing top 5 rows\n",
      "\n"
     ]
    }
   ],
   "source": [
    "merge.show(5)"
   ]
  },
  {
   "cell_type": "code",
   "execution_count": null,
   "metadata": {
    "collapsed": true
   },
   "outputs": [],
   "source": []
  }
 ],
 "metadata": {
  "kernelspec": {
   "display_name": "Python 3",
   "language": "python",
   "name": "python3"
  },
  "language_info": {
   "codemirror_mode": {
    "name": "ipython",
    "version": 3
   },
   "file_extension": ".py",
   "mimetype": "text/x-python",
   "name": "python",
   "nbconvert_exporter": "python",
   "pygments_lexer": "ipython3",
   "version": "3.5.1"
  }
 },
 "nbformat": 4,
 "nbformat_minor": 1
}
